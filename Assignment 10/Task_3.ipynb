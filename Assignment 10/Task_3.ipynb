{
  "nbformat": 4,
  "nbformat_minor": 0,
  "metadata": {
    "colab": {
      "provenance": [],
      "gpuType": "T4",
      "authorship_tag": "ABX9TyOKk9RJoofSoFudi4ESjvcu",
      "include_colab_link": true
    },
    "kernelspec": {
      "name": "python3",
      "display_name": "Python 3"
    },
    "language_info": {
      "name": "python"
    },
    "accelerator": "GPU"
  },
  "cells": [
    {
      "cell_type": "markdown",
      "metadata": {
        "id": "view-in-github",
        "colab_type": "text"
      },
      "source": [
        "<a href=\"https://colab.research.google.com/github/Arif111866/Deep-Learning-AI/blob/main/Assignment_10/Task_3.ipynb\" target=\"_parent\"><img src=\"https://colab.research.google.com/assets/colab-badge.svg\" alt=\"Open In Colab\"/></a>"
      ]
    },
    {
      "cell_type": "code",
      "source": [
        "import torch\n",
        "import torch.nn as nn\n",
        "import torch.nn.functional as F\n",
        "import torchvision\n",
        "import torchvision.transforms as transforms\n",
        "import matplotlib.pyplot as plt\n",
        "import numpy as np\n"
      ],
      "metadata": {
        "id": "jlkqHGiNkfuj"
      },
      "execution_count": 1,
      "outputs": []
    },
    {
      "cell_type": "markdown",
      "source": [],
      "metadata": {
        "id": "3u3h6I-yoZ84"
      }
    },
    {
      "cell_type": "code",
      "source": [
        "device = torch.device(\"cuda\" if torch.cuda.is_available() else \"cpu\")\n",
        "\n",
        "LATENT_DIM = 20\n",
        "BATCH_SIZE = 128\n",
        "EPOCHS = 15\n",
        "LR = 1e-3\n"
      ],
      "metadata": {
        "id": "-h7cfD0Kko6k"
      },
      "execution_count": 2,
      "outputs": []
    },
    {
      "cell_type": "code",
      "source": [
        "transform = transforms.ToTensor()\n",
        "\n",
        "train_dataset = torchvision.datasets.MNIST(root='./data', train=True, transform=transform, download=True)\n",
        "train_loader = torch.utils.data.DataLoader(train_dataset, batch_size=BATCH_SIZE, shuffle=True)\n",
        "\n",
        "test_dataset = torchvision.datasets.MNIST(root='./data', train=False, transform=transform)\n",
        "test_loader = torch.utils.data.DataLoader(test_dataset, batch_size=BATCH_SIZE, shuffle=False)\n"
      ],
      "metadata": {
        "colab": {
          "base_uri": "https://localhost:8080/"
        },
        "id": "TabGcc8ykrgV",
        "outputId": "65ebe0e7-537a-47f7-d0e9-6956cb4d96fc"
      },
      "execution_count": 3,
      "outputs": [
        {
          "output_type": "stream",
          "name": "stderr",
          "text": [
            "100%|██████████| 9.91M/9.91M [00:00<00:00, 18.4MB/s]\n",
            "100%|██████████| 28.9k/28.9k [00:00<00:00, 500kB/s]\n",
            "100%|██████████| 1.65M/1.65M [00:00<00:00, 4.57MB/s]\n",
            "100%|██████████| 4.54k/4.54k [00:00<00:00, 6.31MB/s]\n"
          ]
        }
      ]
    },
    {
      "cell_type": "code",
      "source": [
        "class VAE(nn.Module):\n",
        "    def __init__(self):\n",
        "        super(VAE, self).__init__()\n",
        "        self.encoder = nn.Sequential(\n",
        "            nn.Flatten(),\n",
        "            nn.Linear(28*28, 400),\n",
        "            nn.ReLU()\n",
        "        )\n",
        "        self.fc_mu = nn.Linear(400, LATENT_DIM)\n",
        "        self.fc_logvar = nn.Linear(400, LATENT_DIM)\n",
        "\n",
        "        self.decoder = nn.Sequential(\n",
        "            nn.Linear(LATENT_DIM, 400),\n",
        "            nn.ReLU(),\n",
        "            nn.Linear(400, 28*28),\n",
        "            nn.Sigmoid()\n",
        "        )\n",
        "\n",
        "    def reparameterize(self, mu, logvar):\n",
        "        std = torch.exp(0.5 * logvar)\n",
        "        eps = torch.randn_like(std)\n",
        "        return mu + eps * std\n",
        "\n",
        "    def forward(self, x):\n",
        "        h = self.encoder(x)\n",
        "        mu = self.fc_mu(h)\n",
        "        logvar = self.fc_logvar(h)\n",
        "        z = self.reparameterize(mu, logvar)\n",
        "        x_hat = self.decoder(z)\n",
        "        return x_hat, mu, logvar\n"
      ],
      "metadata": {
        "id": "AqgACY8Wkvnt"
      },
      "execution_count": 4,
      "outputs": []
    },
    {
      "cell_type": "code",
      "source": [
        "model = VAE().to(device)\n",
        "optimizer = torch.optim.Adam(model.parameters(), lr=LR)\n",
        "def loss_function(recon_x, x, mu, logvar):\n",
        "    BCE = F.binary_cross_entropy(recon_x, x.view(-1, 28*28), reduction='sum')\n",
        "    KLD = -0.5 * torch.sum(1 + logvar - mu.pow(2) - logvar.exp())\n",
        "    return BCE + KLD\n"
      ],
      "metadata": {
        "id": "1AbVoF0LkyX2"
      },
      "execution_count": 5,
      "outputs": []
    },
    {
      "cell_type": "code",
      "source": [
        "model.train()\n",
        "for epoch in range(EPOCHS):\n",
        "    total_loss = 0\n",
        "    for images, _ in train_loader:\n",
        "        images = images.to(device)\n",
        "        recon_x, mu, logvar = model(images)\n",
        "        loss = loss_function(recon_x, images, mu, logvar)\n",
        "\n",
        "        optimizer.zero_grad()\n",
        "        loss.backward()\n",
        "        optimizer.step()\n",
        "\n",
        "        total_loss += loss.item()\n",
        "\n",
        "    print(f\"Epoch [{epoch+1}/{EPOCHS}], Loss: {total_loss / len(train_loader):.2f}\")\n"
      ],
      "metadata": {
        "colab": {
          "base_uri": "https://localhost:8080/"
        },
        "id": "jZM_d3Htk3nP",
        "outputId": "1a34caa5-5354-44e0-a7b2-1172450b2630"
      },
      "execution_count": 6,
      "outputs": [
        {
          "output_type": "stream",
          "name": "stdout",
          "text": [
            "Epoch [1/15], Loss: 20945.83\n",
            "Epoch [2/15], Loss: 15453.42\n",
            "Epoch [3/15], Loss: 14611.34\n",
            "Epoch [4/15], Loss: 14236.08\n",
            "Epoch [5/15], Loss: 14019.87\n",
            "Epoch [6/15], Loss: 13870.64\n",
            "Epoch [7/15], Loss: 13769.49\n",
            "Epoch [8/15], Loss: 13686.13\n",
            "Epoch [9/15], Loss: 13614.98\n",
            "Epoch [10/15], Loss: 13564.94\n",
            "Epoch [11/15], Loss: 13515.12\n",
            "Epoch [12/15], Loss: 13482.56\n",
            "Epoch [13/15], Loss: 13446.26\n",
            "Epoch [14/15], Loss: 13415.29\n",
            "Epoch [15/15], Loss: 13382.61\n"
          ]
        }
      ]
    },
    {
      "cell_type": "code",
      "source": [
        "model.eval()\n",
        "with torch.no_grad():\n",
        "    test_imgs, _ = next(iter(test_loader))\n",
        "    test_imgs = test_imgs[:10].to(device)\n",
        "    recon_imgs, _, _ = model(test_imgs)\n",
        "\n",
        "# Flatten for metric evaluation\n",
        "original = test_imgs.cpu().numpy().reshape(10, -1)\n",
        "reconstructed = recon_imgs.cpu().numpy().reshape(10, -1)\n",
        "\n",
        "from sklearn.metrics import mean_squared_error, mean_absolute_error, r2_score\n",
        "\n",
        "mse = mean_squared_error(original, reconstructed)\n",
        "mae = mean_absolute_error(original, reconstructed)\n",
        "r2 = r2_score(original, reconstructed)\n",
        "\n",
        "print(f\"\\n📊 Evaluation Metrics on MNIST:\")\n",
        "print(f\"🔸 Mean Squared Error (MSE): {mse:.4f}\")\n",
        "print(f\"🔸 Mean Absolute Error (MAE): {mae:.4f}\")\n",
        "print(f\"🔸 R2 Score: {r2:.4f}\")"
      ],
      "metadata": {
        "colab": {
          "base_uri": "https://localhost:8080/"
        },
        "id": "pXqxnIhLk6MA",
        "outputId": "88fb0fed-9633-4c57-807d-1529a2911b47"
      },
      "execution_count": 7,
      "outputs": [
        {
          "output_type": "stream",
          "name": "stdout",
          "text": [
            "\n",
            "📊 Evaluation Metrics on MNIST:\n",
            "🔸 Mean Squared Error (MSE): 0.0136\n",
            "🔸 Mean Absolute Error (MAE): 0.0402\n",
            "🔸 R2 Score: 0.1437\n"
          ]
        }
      ]
    },
    {
      "cell_type": "code",
      "source": [
        "fig, axes = plt.subplots(2, 10, figsize=(15, 4))\n",
        "for i in range(10):\n",
        "    axes[0, i].imshow(test_imgs[i].squeeze().cpu().numpy(), cmap='gray')\n",
        "    axes[0, i].set_title(\"Original\")\n",
        "    axes[0, i].axis('off')\n",
        "\n",
        "    axes[1, i].imshow(recon_imgs[i].reshape(28, 28).squeeze().cpu().numpy(), cmap='gray')\n",
        "    axes[1, i].set_title(\"Reconstruction\")\n",
        "    axes[1, i].axis('off')\n",
        "\n",
        "plt.suptitle(\"MNIST - VAE Reconstruction\")\n",
        "plt.tight_layout()\n",
        "plt.show()"
      ],
      "metadata": {
        "colab": {
          "base_uri": "https://localhost:8080/",
          "height": 268
        },
        "id": "AW5pzCWKli6p",
        "outputId": "9ff8fc66-9d94-41d2-de8b-681ca08c9064"
      },
      "execution_count": 8,
      "outputs": [
        {
          "output_type": "display_data",
          "data": {
            "text/plain": [
              "<Figure size 1500x400 with 20 Axes>"
            ],
            "image/png": "[encoded data removed]"
          },
          "metadata": {}
        }
      ]
    },
    {
      "cell_type": "markdown",
      "source": [
        "task_4\n",
        "# New Section"
      ],
      "metadata": {
        "id": "71GTOHukobrd"
      }
    },
    {
      "cell_type": "code",
      "source": [
        "# Assuming the full VAE model from Task 3 is still available as 'model'\n",
        "model.eval()  # Set to evaluation mode"
      ],
      "metadata": {
        "colab": {
          "base_uri": "https://localhost:8080/"
        },
        "id": "Qrrja6zQod96",
        "outputId": "2f70dcc5-7ee9-40af-b2ab-ea248c6ab03a"
      },
      "execution_count": 9,
      "outputs": [
        {
          "output_type": "execute_result",
          "data": {
            "text/plain": [
              "VAE(\n",
              "  (encoder): Sequential(\n",
              "    (0): Flatten(start_dim=1, end_dim=-1)\n",
              "    (1): Linear(in_features=784, out_features=400, bias=True)\n",
              "    (2): ReLU()\n",
              "  )\n",
              "  (fc_mu): Linear(in_features=400, out_features=20, bias=True)\n",
              "  (fc_logvar): Linear(in_features=400, out_features=20, bias=True)\n",
              "  (decoder): Sequential(\n",
              "    (0): Linear(in_features=20, out_features=400, bias=True)\n",
              "    (1): ReLU()\n",
              "    (2): Linear(in_features=400, out_features=784, bias=True)\n",
              "    (3): Sigmoid()\n",
              "  )\n",
              ")"
            ]
          },
          "metadata": {},
          "execution_count": 9
        }
      ]
    },
    {
      "cell_type": "code",
      "source": [
        "# Normal Distribution with mean = 5, std = 1\n",
        "latent_vectors = torch.randn(5, LATENT_DIM).to(device) + 5\n"
      ],
      "metadata": {
        "id": "ZcW-GYWGoxqN"
      },
      "execution_count": 10,
      "outputs": []
    },
    {
      "cell_type": "code",
      "source": [
        "with torch.no_grad():\n",
        "    generated_imgs = model.decoder(latent_vectors)\n"
      ],
      "metadata": {
        "id": "JIkh2Thjo0Cp"
      },
      "execution_count": 11,
      "outputs": []
    },
    {
      "cell_type": "code",
      "source": [
        "import matplotlib.pyplot as plt\n",
        "\n",
        "plt.figure(figsize=(12, 3))\n",
        "for i in range(5):\n",
        "    plt.subplot(1, 5, i+1)\n",
        "    plt.imshow(generated_imgs[i].reshape(28, 28).cpu().numpy(), cmap='gray')\n",
        "    plt.title(f\"Sample {i+1}\")\n",
        "    plt.axis('off')\n",
        "\n",
        "plt.suptitle(\"Generated Images from Noise ~ N(5, 1)\")\n",
        "plt.tight_layout()\n",
        "plt.show()"
      ],
      "metadata": {
        "colab": {
          "base_uri": "https://localhost:8080/",
          "height": 259
        },
        "id": "543adpbto2Dx",
        "outputId": "e37e2dd1-e496-4dc8-e932-4777fe367bb9"
      },
      "execution_count": 13,
      "outputs": [
        {
          "output_type": "display_data",
          "data": {
            "text/plain": [
              "<Figure size 1200x300 with 5 Axes>"
            ],
            "image/png": "[encoded data removed]"
          },
          "metadata": {}
        }
      ]
    }
  ]
}