{
  "nbformat": 4,
  "nbformat_minor": 0,
  "metadata": {
    "colab": {
      "provenance": [],
      "gpuType": "T4",
      "authorship_tag": "ABX9TyOZ1oKDER3VkRefNoob4CGZ",
      "include_colab_link": true
    },
    "kernelspec": {
      "name": "python3",
      "display_name": "Python 3"
    },
    "language_info": {
      "name": "python"
    },
    "accelerator": "GPU"
  },
  "cells": [
    {
      "cell_type": "markdown",
      "metadata": {
        "id": "view-in-github",
        "colab_type": "text"
      },
      "source": [
        "<a href=\"https://colab.research.google.com/github/Arif111866/Deep-Learning-AI/blob/main/Assignment_10/Task_2_assignment_10_DNN.ipynb\" target=\"_parent\"><img src=\"https://colab.research.google.com/assets/colab-badge.svg\" alt=\"Open In Colab\"/></a>"
      ]
    },
    {
      "cell_type": "markdown",
      "source": [
        "# Import"
      ],
      "metadata": {
        "id": "FVZDk27V5UUB"
      }
    },
    {
      "cell_type": "code",
      "execution_count": 1,
      "metadata": {
        "id": "XPLZudQG4zuF"
      },
      "outputs": [],
      "source": [
        "import torch\n",
        "import torch.nn as nn\n",
        "import torchvision\n",
        "import torchvision.transforms as transforms\n",
        "import matplotlib.pyplot as plt\n",
        "import numpy as np"
      ]
    },
    {
      "cell_type": "markdown",
      "source": [
        "# Data loading with added Gaussian noise"
      ],
      "metadata": {
        "id": "cDX2BAcR5k9k"
      }
    },
    {
      "cell_type": "code",
      "source": [
        "# Set device\n",
        "device = torch.device(\"cuda\" if torch.cuda.is_available() else \"cpu\")\n",
        "\n",
        "# Hyperparameters\n",
        "LATENT_DIM = 128\n",
        "BATCH_SIZE = 128\n",
        "EPOCHS = 20\n",
        "LEARNING_RATE = 1e-3\n",
        "\n",
        "# Data loading with added Gaussian noise\n",
        "def add_noise(imgs, mean=0.0, std=0.1):\n",
        "    noise = torch.randn_like(imgs) * std + mean\n",
        "    noisy_imgs = imgs + noise\n",
        "    return torch.clip(noisy_imgs, 0., 1.)\n",
        "\n",
        "transform = transforms.Compose([\n",
        "    transforms.ToTensor(),\n",
        "])\n",
        "\n",
        "train_dataset = torchvision.datasets.CIFAR10(root='./data', train=True, transform=transform, download=True)\n",
        "train_loader = torch.utils.data.DataLoader(train_dataset, batch_size=BATCH_SIZE, shuffle=True)"
      ],
      "metadata": {
        "colab": {
          "base_uri": "https://localhost:8080/"
        },
        "id": "67IkXVgI5qxg",
        "outputId": "bedcc38a-bfb8-4776-f11a-c5351e0375bf"
      },
      "execution_count": 2,
      "outputs": [
        {
          "output_type": "stream",
          "name": "stderr",
          "text": [
            "100%|██████████| 170M/170M [00:04<00:00, 40.2MB/s]\n"
          ]
        }
      ]
    },
    {
      "cell_type": "code",
      "source": [
        "# Autoencoder definition\n",
        "class DenoisingAutoencoder(nn.Module):\n",
        "    def __init__(self):\n",
        "        super(DenoisingAutoencoder, self).__init__()\n",
        "        self.encoder = nn.Sequential(\n",
        "            nn.Flatten(),\n",
        "            nn.Linear(3*32*32, 1024),\n",
        "            nn.ReLU(),\n",
        "            nn.Linear(1024, LATENT_DIM)\n",
        "        )\n",
        "        self.decoder = nn.Sequential(\n",
        "            nn.Linear(LATENT_DIM, 1024),\n",
        "            nn.ReLU(),\n",
        "            nn.Linear(1024, 3*32*32),\n",
        "            nn.Sigmoid(),\n",
        "            nn.Unflatten(1, (3, 32, 32))\n",
        "        )\n",
        "\n",
        "    def forward(self, x):\n",
        "        latent = self.encoder(x)\n",
        "        reconstructed = self.decoder(latent)\n",
        "        return reconstructed\n",
        "\n",
        "model = DenoisingAutoencoder().to(device)\n",
        "criterion = nn.MSELoss()\n",
        "optimizer = torch.optim.Adam(model.parameters(), lr=LEARNING_RATE)\n"
      ],
      "metadata": {
        "id": "VunvOT63579o"
      },
      "execution_count": 3,
      "outputs": []
    },
    {
      "cell_type": "code",
      "source": [
        "# Training loop\n",
        "for epoch in range(EPOCHS):\n",
        "    model.train()\n",
        "    total_loss = 0\n",
        "    for clean_imgs, _ in train_loader:\n",
        "        clean_imgs = clean_imgs.to(device)\n",
        "        noisy_imgs = add_noise(clean_imgs).to(device)\n",
        "\n",
        "        outputs = model(noisy_imgs)\n",
        "        loss = criterion(outputs, clean_imgs)\n",
        "\n",
        "        optimizer.zero_grad()\n",
        "        loss.backward()\n",
        "        optimizer.step()\n",
        "\n",
        "        total_loss += loss.item()\n",
        "\n",
        "    print(f\"Epoch [{epoch+1}/{EPOCHS}], Loss: {total_loss / len(train_loader):.4f}\")\n",
        "\n",
        "# Save model for reuse\n",
        "torch.save(model.state_dict(), \"denoising_autoencoder.pth\")\n"
      ],
      "metadata": {
        "colab": {
          "base_uri": "https://localhost:8080/"
        },
        "id": "qUOwrnH55_iu",
        "outputId": "678ec486-efa4-451f-ee3f-97b7ffbc5a57"
      },
      "execution_count": 4,
      "outputs": [
        {
          "output_type": "stream",
          "name": "stdout",
          "text": [
            "Epoch [1/20], Loss: 0.0248\n",
            "Epoch [2/20], Loss: 0.0144\n",
            "Epoch [3/20], Loss: 0.0124\n",
            "Epoch [4/20], Loss: 0.0110\n",
            "Epoch [5/20], Loss: 0.0106\n",
            "Epoch [6/20], Loss: 0.0096\n",
            "Epoch [7/20], Loss: 0.0091\n",
            "Epoch [8/20], Loss: 0.0088\n",
            "Epoch [9/20], Loss: 0.0085\n",
            "Epoch [10/20], Loss: 0.0082\n",
            "Epoch [11/20], Loss: 0.0167\n",
            "Epoch [12/20], Loss: 0.0130\n",
            "Epoch [13/20], Loss: 0.0122\n",
            "Epoch [14/20], Loss: 0.0115\n",
            "Epoch [15/20], Loss: 0.0113\n",
            "Epoch [16/20], Loss: 0.0111\n",
            "Epoch [17/20], Loss: 0.0109\n",
            "Epoch [18/20], Loss: 0.0108\n",
            "Epoch [19/20], Loss: 0.0106\n",
            "Epoch [20/20], Loss: 0.0105\n"
          ]
        }
      ]
    },
    {
      "cell_type": "code",
      "source": [
        "# GENERATION SECTION\n",
        "model.eval()\n",
        "with torch.no_grad():\n",
        "    z = torch.normal(mean=5, std=1, size=(5, LATENT_DIM)).to(device)\n",
        "    generated_imgs = model.decoder(z).cpu()\n",
        "\n",
        "# Plotting\n",
        "fig, axes = plt.subplots(1, 5, figsize=(12, 3))\n",
        "for i, ax in enumerate(axes):\n",
        "    img = np.transpose(generated_imgs[i].numpy(), (1, 2, 0))\n",
        "    ax.imshow(img)\n",
        "    ax.axis('off')\n",
        "fig.suptitle(\"Generated Images (CIFAR10 - Denoising Autoencoder)\")\n",
        "plt.tight_layout()\n",
        "plt.show()\n"
      ],
      "metadata": {
        "colab": {
          "base_uri": "https://localhost:8080/",
          "height": 308
        },
        "id": "7_Fg-SqY6K4l",
        "outputId": "1622e38d-6094-4c0e-98c1-f9874d95de12"
      },
      "execution_count": 5,
      "outputs": [
        {
          "output_type": "display_data",
          "data": {
            "text/plain": [
              "<Figure size 1200x300 with 5 Axes>"
            ],
            "image/png": "[encoded data removed]"
          },
          "metadata": {}
        }
      ]
    }
  ]
}