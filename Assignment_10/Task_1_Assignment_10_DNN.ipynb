{
  "nbformat": 4,
  "nbformat_minor": 0,
  "metadata": {
    "colab": {
      "provenance": [],
      "authorship_tag": "ABX9TyOhA0sIa+0ZAMgRi1QDCY3v",
      "include_colab_link": true
    },
    "kernelspec": {
      "name": "python3",
      "display_name": "Python 3"
    },
    "language_info": {
      "name": "python"
    }
  },
  "cells": [
    {
      "cell_type": "markdown",
      "metadata": {
        "id": "view-in-github",
        "colab_type": "text"
      },
      "source": [
        "<a href=\"https://colab.research.google.com/github/Arif111866/Deep-Learning-AI/blob/main/Assignment_10/Task_1_Assignment_10_DNN.ipynb\" target=\"_parent\"><img src=\"https://colab.research.google.com/assets/colab-badge.svg\" alt=\"Open In Colab\"/></a>"
      ]
    },
    {
      "cell_type": "code",
      "execution_count": 19,
      "metadata": {
        "id": "b2wMiFfIJNZ-"
      },
      "outputs": [],
      "source": [
        "import torch\n",
        "import torch.nn as nn\n",
        "import torch.optim as optim\n",
        "from torchvision import datasets, transforms\n",
        "from torch.utils.data import DataLoader\n",
        "import matplotlib.pyplot as plt\n"
      ]
    },
    {
      "cell_type": "markdown",
      "source": [
        "# Load CIFAR-10 Dataset"
      ],
      "metadata": {
        "id": "NuQV2LmuJaM-"
      }
    },
    {
      "cell_type": "code",
      "source": [
        "transform = transforms.Compose([\n",
        "    transforms.ToTensor()\n",
        "])\n",
        "\n",
        "train_dataset = datasets.CIFAR10(root='./data', train=True, transform=transform, download=True)\n",
        "train_loader = DataLoader(train_dataset, batch_size=128, shuffle=True)\n"
      ],
      "metadata": {
        "id": "D5l6r5VfJf57"
      },
      "execution_count": 20,
      "outputs": []
    },
    {
      "cell_type": "markdown",
      "source": [
        "# Define the Autoencoder"
      ],
      "metadata": {
        "id": "jsEwVNZNJiv9"
      }
    },
    {
      "cell_type": "code",
      "source": [
        "class Autoencoder(nn.Module):\n",
        "    def __init__(self):\n",
        "        super().__init__()\n",
        "        self.encoder = nn.Sequential(\n",
        "            nn.Flatten(),              # [3, 32, 32] → [3072]\n",
        "            nn.Linear(3072, 512),\n",
        "            nn.ReLU(),\n",
        "            nn.Linear(512, 128),\n",
        "            nn.ReLU(),\n",
        "            nn.Linear(128, 32)         # Latent vector\n",
        "        )\n",
        "        self.decoder = nn.Sequential(\n",
        "            nn.Linear(32, 128),\n",
        "            nn.ReLU(),\n",
        "            nn.Linear(128, 512),\n",
        "            nn.ReLU(),\n",
        "            nn.Linear(512, 3072),\n",
        "            nn.Sigmoid()               # Output in range [0, 1]\n",
        "        )\n",
        "\n",
        "    def forward(self, x):\n",
        "        z = self.encoder(x)\n",
        "        out = self.decoder(z)\n",
        "        return out\n"
      ],
      "metadata": {
        "id": "_shmMfkyJldO"
      },
      "execution_count": 21,
      "outputs": []
    },
    {
      "cell_type": "markdown",
      "source": [
        "# Train the Autoencoder"
      ],
      "metadata": {
        "id": "qDADczGIJrHz"
      }
    },
    {
      "cell_type": "code",
      "source": [
        "device = torch.device('cuda' if torch.cuda.is_available() else 'cpu')\n",
        "model = Autoencoder().to(device)\n",
        "criterion = nn.MSELoss()\n",
        "optimizer = optim.Adam(model.parameters(), lr=1e-3)\n",
        "\n",
        "epochs = 5\n",
        "for epoch in range(epochs):\n",
        "    for images, _ in train_loader:\n",
        "        images = images.to(device)\n",
        "        outputs = model(images)\n",
        "        loss = criterion(outputs, images.view(-1, 3072))\n",
        "        optimizer.zero_grad()\n",
        "        loss.backward()\n",
        "        optimizer.step()\n",
        "    print(f\"Epoch {epoch+1}/{epochs}, Loss: {loss.item():.4f}\")\n"
      ],
      "metadata": {
        "colab": {
          "base_uri": "https://localhost:8080/"
        },
        "id": "Yi03h622JtQj",
        "outputId": "cae97540-6ca8-4f43-ddf2-285641e2a414"
      },
      "execution_count": 22,
      "outputs": [
        {
          "output_type": "stream",
          "name": "stdout",
          "text": [
            "Epoch 1/5, Loss: 0.0220\n",
            "Epoch 2/5, Loss: 0.0207\n",
            "Epoch 3/5, Loss: 0.0155\n",
            "Epoch 4/5, Loss: 0.0177\n",
            "Epoch 5/5, Loss: 0.0164\n"
          ]
        }
      ]
    },
    {
      "cell_type": "markdown",
      "source": [
        "# Generate 5 Noise Vectors and Decode"
      ],
      "metadata": {
        "id": "ZuLs_4rnJv28"
      }
    },
    {
      "cell_type": "code",
      "source": [
        "# Generate 5 random noise vectors from N(mean=5, std=1)\n",
        "noise_vectors = torch.normal(mean=5, std=1, size=(5, 32)).to(device)\n",
        "\n",
        "# Generate images using decoder\n",
        "model.eval()\n",
        "with torch.no_grad():\n",
        "    generated = model.decoder(noise_vectors).view(-1, 3, 32, 32)  # reshape to RGB images\n"
      ],
      "metadata": {
        "id": "5a_75d07Jx1F"
      },
      "execution_count": 23,
      "outputs": []
    },
    {
      "cell_type": "markdown",
      "source": [
        "# Visualize the Generated Images"
      ],
      "metadata": {
        "id": "4tDJ-TJkJ1Yv"
      }
    },
    {
      "cell_type": "code",
      "source": [
        "def show_images(images, title=\"Generated Images (CIFAR10 - Normal Autoencoder)\"):\n",
        "    images = images.cpu().numpy().transpose(0, 2, 3, 1)  # [B, C, H, W] → [B, H, W, C]\n",
        "    plt.figure(figsize=(10, 2))\n",
        "    for i in range(5):\n",
        "        plt.subplot(1, 5, i+1)\n",
        "        plt.imshow(images[i])\n",
        "        plt.axis('off')\n",
        "    plt.suptitle(title)\n",
        "    plt.show()\n",
        "\n",
        "show_images(generated)\n"
      ],
      "metadata": {
        "colab": {
          "base_uri": "https://localhost:8080/",
          "height": 200
        },
        "id": "NbOu5nCyJ1FK",
        "outputId": "973fca7f-bc55-452c-c8c0-ff33476e37d9"
      },
      "execution_count": 24,
      "outputs": [
        {
          "output_type": "display_data",
          "data": {
            "text/plain": [
              "<Figure size 1000x200 with 5 Axes>"
            ],
            "image/png": "[encoded data removed]"
          },
          "metadata": {}
        }
      ]
    }
  ]
}